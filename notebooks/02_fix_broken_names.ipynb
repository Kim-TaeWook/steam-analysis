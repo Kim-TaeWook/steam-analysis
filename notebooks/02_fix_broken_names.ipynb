{
 "cells": [
  {
   "cell_type": "code",
   "execution_count": 1,
   "id": "c632c430-2044-4d5b-8762-ec9c55224003",
   "metadata": {},
   "outputs": [
    {
     "name": "stdout",
     "output_type": "stream",
     "text": [
      "✅ 이름 수정 완료 및 저장 완료\n"
     ]
    }
   ],
   "source": [
    "import pandas as pd\n",
    "import requests\n",
    "\n",
    "# 1. Steam API에서 전체 앱 목록 받아오기\n",
    "def get_all_steam_apps():\n",
    "    url = \"https://api.steampowered.com/ISteamApps/GetAppList/v2/\"\n",
    "    response = requests.get(url)\n",
    "    app_list = response.json()['applist']['apps']\n",
    "    df_apps = pd.DataFrame(app_list)\n",
    "    df_apps.to_csv(\"steam_applist.csv\", index=False, encoding=\"utf-8-sig\")  # 로컬 저장\n",
    "    return df_apps\n",
    "\n",
    "# 2. 기존 raw 데이터 GitHub에서 불러오기\n",
    "def load_raw_data():\n",
    "    urls = {\n",
    "        \"block_1\": \"https://raw.githubusercontent.com/Kim-TaeWook/steam-analysis/refs/heads/main/data_raw/steam_games_block_1.csv\",\n",
    "        \"block_2\": \"https://raw.githubusercontent.com/Kim-TaeWook/steam-analysis/refs/heads/main/data_raw/steam_games_block_2.csv\",\n",
    "        \"partial\": \"https://raw.githubusercontent.com/Kim-TaeWook/steam-analysis/refs/heads/main/data_raw/steam_game_data_partial.csv\"\n",
    "    }\n",
    "    df1 = pd.read_csv(urls[\"block_1\"])\n",
    "    df2 = pd.read_csv(urls[\"block_2\"])\n",
    "    df3 = pd.read_csv(urls[\"partial\"])\n",
    "    return df1, df2, df3\n",
    "\n",
    "# 3. 이름 수정 함수\n",
    "def fix_names(df_raw, df_apps):\n",
    "    name_map = dict(zip(df_apps[\"appid\"], df_apps[\"name\"]))\n",
    "    df_raw[\"name_fixed\"] = df_raw[\"appid\"].map(name_map)\n",
    "    df_raw[\"name\"] = df_raw[\"name_fixed\"].combine_first(df_raw[\"name\"])\n",
    "    return df_raw.drop(columns=[\"name_fixed\"])\n",
    "\n",
    "# 4. 전체 실행\n",
    "df_apps = get_all_steam_apps()\n",
    "df1, df2, df3 = load_raw_data()\n",
    "\n",
    "df1_fixed = fix_names(df1, df_apps)\n",
    "df2_fixed = fix_names(df2, df_apps)\n",
    "df3_fixed = fix_names(df3, df_apps)\n",
    "\n",
    "# 5. 저장 (개별 + 병합본)\n",
    "df1_fixed.to_csv(\"steam_games_block_1_fixed.csv\", index=False, encoding=\"utf-8-sig\")\n",
    "df2_fixed.to_csv(\"steam_games_block_2_fixed.csv\", index=False, encoding=\"utf-8-sig\")\n",
    "df3_fixed.to_csv(\"steam_game_data_partial_fixed.csv\", index=False, encoding=\"utf-8-sig\")\n",
    "\n",
    "df_all = pd.concat([df1_fixed, df2_fixed, df3_fixed], ignore_index=True)\n",
    "df_all.to_csv(\"steam_data_fixed_combined.csv\", index=False, encoding=\"utf-8-sig\")\n",
    "\n",
    "print(\"✅ 이름 수정 완료 및 저장 완료\")\n"
   ]
  }
 ],
 "metadata": {
  "kernelspec": {
   "display_name": "Python (steam_env)",
   "language": "python",
   "name": "steam_env"
  },
  "language_info": {
   "codemirror_mode": {
    "name": "ipython",
    "version": 3
   },
   "file_extension": ".py",
   "mimetype": "text/x-python",
   "name": "python",
   "nbconvert_exporter": "python",
   "pygments_lexer": "ipython3",
   "version": "3.12.9"
  }
 },
 "nbformat": 4,
 "nbformat_minor": 5
}
